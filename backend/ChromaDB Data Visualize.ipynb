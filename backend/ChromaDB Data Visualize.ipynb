{
 "cells": [
  {
   "cell_type": "code",
   "execution_count": null,
   "metadata": {},
   "outputs": [
    {
     "name": "stdout",
     "output_type": "stream",
     "text": [
      "\n",
      "Sample Records from Collection: isbsg_projects\n",
      "\n",
      "--- Record 1 ---\n",
      "ID: 0\n",
      "Document: A Communication industry project was developed by a Telecommunications organization. The project falls under the 'Business Application' category, specifically as a 'Online. eSales' application. It was an Enhancement project, developed on a Multi platform using Java as the primary programming language.\n",
      "\n",
      "The functional size of the project was 67.0 function points, with an adjusted function size of 67.0 function points. The normalized work effort for the project was 741.0 person-hours.\n",
      "\n",
      "The scope of activities included Design, Build, Test, Implement. The maximum team size reached 14 members. The project followed the Waterfall (incl Linear Processing & SSADM) methodology, utilizing development techniques such as Business Area Modelling, Data Modelling, Object Oriented, Prototyping.\n",
      "\n",
      "The project was completed in 1 sprint(s). It involved 76 inputs, 65 outputs, 33 enquiries, 45 files, and 6 interfaces. A total of 175 new elements were added to the system.\n",
      "Metadata: {'Added count': 174.87745098039215, 'Adjusted Function Points': 67.0, 'Application Group': 'Business Application', 'Application Type': 'Online. eSales;', 'Development Methodologies': 'Waterfall (incl Linear Processing & SSADM);', 'Development Platform': 'Multi', 'Development Techniques': 'Business Area Modelling;Data Modelling;Object Oriented;Prototyping;', 'Development Type': 'Enhancement', 'Enquiry count': 33.08888888888889, 'File count': 45.48888888888889, 'Functional Size': 67.0, 'ISBSG Project ID': 10003, 'Industry Sector': 'Communication', 'Input count': 75.64444444444445, 'Interface count': 5.933333333333334, 'Max Team Size': 13.957282568122436, 'Normalised Work Effort': 741.0, 'Organisation Type': 'Telecommunications;', 'Output count': 65.4, 'Primary Programming Language': 'Java', 'Project Activity Scope': 'Design;Build;Test;Implement;', 'Sprints / iterations': 1.0, 'Year of Project': 2015}\n",
      "\n",
      "--- Record 2 ---\n",
      "ID: 1\n",
      "Document: A Communication industry project was developed by a Telecommunications organization. The project falls under the 'Business Application' category, specifically as a 'Customer relationship management' application. It was an Enhancement project, developed on a PC platform using Java as the primary programming language.\n",
      "\n",
      "The functional size of the project was 51.0 function points, with an adjusted function size of 448.84973554361267 function points. The normalized work effort for the project was 314.0 person-hours.\n",
      "\n",
      "The scope of activities included Specification, Design, Build, Test, Implement, Proj Management. The maximum team size reached 14 members. The project followed the Waterfall (incl Linear Processing & SSADM) methodology, utilizing development techniques such as Business Area Modelling, Prototyping, Data Modelling, Object Oriented.\n",
      "\n",
      "The project was completed in 1 sprint(s). It involved 76 inputs, 65 outputs, 33 enquiries, 45 files, and 6 interfaces. A total of 175 new elements were added to the system.\n",
      "Metadata: {'Added count': 174.87745098039215, 'Adjusted Function Points': 448.84973554361267, 'Application Group': 'Business Application', 'Application Type': 'Customer relationship management;', 'Development Methodologies': 'Waterfall (incl Linear Processing & SSADM);', 'Development Platform': 'PC', 'Development Techniques': 'Business Area Modelling;Prototyping;Data Modelling;Object Oriented;', 'Development Type': 'Enhancement', 'Enquiry count': 33.08888888888889, 'File count': 45.48888888888889, 'Functional Size': 51.0, 'ISBSG Project ID': 10007, 'Industry Sector': 'Communication', 'Input count': 75.64444444444445, 'Interface count': 5.933333333333334, 'Max Team Size': 13.957282568122436, 'Normalised Work Effort': 314.0, 'Organisation Type': 'Telecommunications;', 'Output count': 65.4, 'Primary Programming Language': 'Java', 'Project Activity Scope': 'Specification;Design;Build;Test;Implement;Proj Management;', 'Sprints / iterations': 1.0, 'Year of Project': 2016}\n",
      "\n",
      "--- Record 3 ---\n",
      "ID: 2\n",
      "Document: A Construction industry project was developed by a Telecommunications organization. The project falls under the 'Business Application' category, specifically as a 'Customer relationship management' application. It was an Enhancement project, developed on a PC platform using Oracle as the primary programming language.\n",
      "\n",
      "The functional size of the project was 745.0 function points, with an adjusted function size of 448.84973554361267 function points. The normalized work effort for the project was 4582.5 person-hours.\n",
      "\n",
      "The scope of activities included Design, Build, Test, Scrum Master (No Requirements and No Implementation). The maximum team size reached 4 members. The project followed the Agile Development methodology, utilizing development techniques such as Business Area Modelling, Prototyping, Data Modelling, Object Oriented.\n",
      "\n",
      "The project was completed in 15 sprint(s). It involved 76 inputs, 65 outputs, 33 enquiries, 45 files, and 6 interfaces. A total of 175 new elements were added to the system.\n",
      "Metadata: {'Added count': 174.87745098039215, 'Adjusted Function Points': 448.84973554361267, 'Application Group': 'Business Application', 'Application Type': 'Customer relationship management;', 'Development Methodologies': 'Agile Development;', 'Development Platform': 'PC', 'Development Techniques': 'Business Area Modelling;Prototyping;Data Modelling;Object Oriented;', 'Development Type': 'Enhancement', 'Enquiry count': 33.08888888888889, 'File count': 45.48888888888889, 'Functional Size': 745.0, 'ISBSG Project ID': 10016, 'Industry Sector': 'Construction', 'Input count': 75.64444444444445, 'Interface count': 5.933333333333334, 'Max Team Size': 4.3, 'Normalised Work Effort': 4582.5, 'Organisation Type': 'Telecommunications;', 'Output count': 65.4, 'Primary Programming Language': 'Oracle', 'Project Activity Scope': 'Design, Build, Test, Scrum Master (No Requirements and No Implementation);', 'Sprints / iterations': 15.0, 'Year of Project': 2019}\n",
      "\n",
      "--- Record 4 ---\n",
      "ID: 3\n",
      "Document: A Communication industry project was developed by a Telecommunications organization. The project falls under the 'Business Application' category, specifically as a 'Data Warehouse' application. It was an Enhancement project, developed on a Multi platform using Shell as the primary programming language.\n",
      "\n",
      "The functional size of the project was 98.0 function points, with an adjusted function size of 98.0 function points. The normalized work effort for the project was 324.0 person-hours.\n",
      "\n",
      "The scope of activities included Design, Build, Test, Implement. The maximum team size reached 14 members. The project followed the Waterfall (incl Linear Processing & SSADM) methodology, utilizing development techniques such as Business Area Modelling, Data Modelling, Object Oriented, Prototyping.\n",
      "\n",
      "The project was completed in 1 sprint(s). It involved 76 inputs, 65 outputs, 33 enquiries, 45 files, and 6 interfaces. A total of 175 new elements were added to the system.\n",
      "Metadata: {'Added count': 174.87745098039215, 'Adjusted Function Points': 98.0, 'Application Group': 'Business Application', 'Application Type': 'Data Warehouse;', 'Development Methodologies': 'Waterfall (incl Linear Processing & SSADM);', 'Development Platform': 'Multi', 'Development Techniques': 'Business Area Modelling;Data Modelling;Object Oriented;Prototyping;', 'Development Type': 'Enhancement', 'Enquiry count': 33.08888888888889, 'File count': 45.48888888888889, 'Functional Size': 98.0, 'ISBSG Project ID': 10019, 'Industry Sector': 'Communication', 'Input count': 75.64444444444445, 'Interface count': 5.933333333333334, 'Max Team Size': 13.957282568122436, 'Normalised Work Effort': 324.0, 'Organisation Type': 'Telecommunications;', 'Output count': 65.4, 'Primary Programming Language': 'Shell', 'Project Activity Scope': 'Design;Build;Test;Implement;', 'Sprints / iterations': 1.0, 'Year of Project': 2014}\n",
      "\n",
      "--- Record 5 ---\n",
      "ID: 4\n",
      "Document: A Communication industry project was developed by a Telecommunications organization. The project falls under the 'Business Application' category, specifically as a 'Customer relationship management' application. It was an Enhancement project, developed on a Multi platform using Siebel as the primary programming language.\n",
      "\n",
      "The functional size of the project was 138.0 function points, with an adjusted function size of 138.0 function points. The normalized work effort for the project was 2954.0 person-hours.\n",
      "\n",
      "The scope of activities included Design, Build, Test, Implement. The maximum team size reached 14 members. The project followed the Waterfall (incl Linear Processing & SSADM) methodology, utilizing development techniques such as Business Area Modelling, Data Modelling, Object Oriented, Prototyping.\n",
      "\n",
      "The project was completed in 1 sprint(s). It involved 76 inputs, 65 outputs, 33 enquiries, 45 files, and 6 interfaces. A total of 175 new elements were added to the system.\n",
      "Metadata: {'Added count': 174.87745098039215, 'Adjusted Function Points': 138.0, 'Application Group': 'Business Application', 'Application Type': 'Customer relationship management;', 'Development Methodologies': 'Waterfall (incl Linear Processing & SSADM);', 'Development Platform': 'Multi', 'Development Techniques': 'Business Area Modelling;Data Modelling;Object Oriented;Prototyping;', 'Development Type': 'Enhancement', 'Enquiry count': 33.08888888888889, 'File count': 45.48888888888889, 'Functional Size': 138.0, 'ISBSG Project ID': 10028, 'Industry Sector': 'Communication', 'Input count': 75.64444444444445, 'Interface count': 5.933333333333334, 'Max Team Size': 13.957282568122436, 'Normalised Work Effort': 2954.0, 'Organisation Type': 'Telecommunications;', 'Output count': 65.4, 'Primary Programming Language': 'Siebel', 'Project Activity Scope': 'Design;Build;Test;Implement;', 'Sprints / iterations': 1.0, 'Year of Project': 2015}\n"
     ]
    }
   ],
   "source": [
    "import chromadb\n",
    "\n",
    "client = chromadb.PersistentClient(path=\"chroma_db\") \n",
    "\n",
    "collection_name = \"isbsg_projects\" \n",
    "collection = client.get_collection(name=collection_name)\n",
    "\n",
    "results = collection.get(include=[\"metadatas\", \"documents\"], limit=5) \n",
    "\n",
    "print(f\"\\nSample Records from Collection: {collection_name}\")\n",
    "for i in range(len(results['ids'])):\n",
    "    print(f\"\\n--- Record {i+1} ---\")\n",
    "    print(\"ID:\", results['ids'][i])\n",
    "    print(\"Document:\", results['documents'][i])\n",
    "    print(\"Metadata:\", results['metadatas'][i])\n"
   ]
  }
 ],
 "metadata": {
  "kernelspec": {
   "display_name": "venv",
   "language": "python",
   "name": "python3"
  },
  "language_info": {
   "codemirror_mode": {
    "name": "ipython",
    "version": 3
   },
   "file_extension": ".py",
   "mimetype": "text/x-python",
   "name": "python",
   "nbconvert_exporter": "python",
   "pygments_lexer": "ipython3",
   "version": "3.12.3"
  }
 },
 "nbformat": 4,
 "nbformat_minor": 2
}

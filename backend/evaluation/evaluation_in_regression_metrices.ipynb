{
 "cells": [
  {
   "cell_type": "code",
   "execution_count": 7,
   "id": "17b569dc",
   "metadata": {},
   "outputs": [
    {
     "name": "stdout",
     "output_type": "stream",
     "text": [
      "✅ Numbers extracted and saved successfully!\n"
     ]
    }
   ],
   "source": [
    "import pandas as pd\n",
    "import re\n",
    "\n",
    "def extract_integer_from_string(text):\n",
    "    if not isinstance(text, str):\n",
    "        return None\n",
    "    # Find numbers with optional commas and decimal points\n",
    "    match = re.search(r'[\\d,.]+', text)\n",
    "    if match:\n",
    "        number_str = match.group(0)\n",
    "        number_str = number_str.replace(',', '')  # Remove commas\n",
    "        try:\n",
    "            number = int(float(number_str))  # Safely convert\n",
    "            return number\n",
    "        except ValueError:\n",
    "            return None\n",
    "    else:\n",
    "        return None\n",
    "\n",
    "# Load the CSV\n",
    "file_path = 'evaluation_final_scores.csv'\n",
    "df = pd.read_csv(file_path)\n",
    "\n",
    "# Create new columns\n",
    "predicted_values = []\n",
    "actual_values = []\n",
    "\n",
    "for idx, row in df.iterrows():\n",
    "    response_text = row.get('response', '')\n",
    "    reference_text = row.get('reference', '')\n",
    "    \n",
    "    predicted = extract_integer_from_string(response_text)\n",
    "    actual = extract_integer_from_string(reference_text)\n",
    "    \n",
    "    if predicted is None:\n",
    "        print(f\"⚠️ Could not extract number from 'response' at row {idx}. Text: {response_text}\")\n",
    "    if actual is None:\n",
    "        print(f\"⚠️ Could not extract number from 'reference' at row {idx}. Text: {reference_text}\")\n",
    "    \n",
    "    predicted_values.append(predicted)\n",
    "    actual_values.append(actual)\n",
    "\n",
    "# Add the new columns\n",
    "df['predicted'] = predicted_values\n",
    "df['actual'] = actual_values\n",
    "\n",
    "# Save back to the same file (or create a new one to be safe)\n",
    "df.to_csv(file_path, index=False)\n",
    "print(\"✅ Numbers extracted and saved successfully!\")\n"
   ]
  },
  {
   "cell_type": "code",
   "execution_count": 8,
   "id": "edd26b87",
   "metadata": {},
   "outputs": [
    {
     "name": "stdout",
     "output_type": "stream",
     "text": [
      "📊 Evaluation Metrics:\n",
      "MAE (Mean Absolute Error): 188.5418\n",
      "MSE (Mean Squared Error): 851950.7295\n",
      "RMSE (Root Mean Squared Error): 923.0118\n",
      "MMRE (Mean Magnitude of Relative Error): 10.74%\n"
     ]
    }
   ],
   "source": [
    "import pandas as pd\n",
    "import numpy as np\n",
    "\n",
    "# Load the CSV again\n",
    "file_path = 'evaluation_final_scores.csv'\n",
    "df = pd.read_csv(file_path)\n",
    "\n",
    "# Drop rows where predicted or actual is missing\n",
    "df = df.dropna(subset=['predicted', 'actual'])\n",
    "\n",
    "# Extract values\n",
    "y_pred = df['predicted'].values\n",
    "y_true = df['actual'].values\n",
    "\n",
    "# Calculate metrics\n",
    "mae = np.mean(np.abs(y_true - y_pred))\n",
    "mse = np.mean((y_true - y_pred) ** 2)\n",
    "rmse = np.sqrt(mse)\n",
    "\n",
    "# For MMRE: Mean Magnitude of Relative Error\n",
    "relative_errors = np.abs(y_true - y_pred) / np.abs(y_true)\n",
    "mmre = np.mean(relative_errors)\n",
    "\n",
    "# Print the results\n",
    "print(f\"📊 Evaluation Metrics:\")\n",
    "print(f\"MAE (Mean Absolute Error): {mae:.4f}\")\n",
    "print(f\"MSE (Mean Squared Error): {mse:.4f}\")\n",
    "print(f\"RMSE (Root Mean Squared Error): {rmse:.4f}\")\n",
    "print(f\"MMRE (Mean Magnitude of Relative Error): {mmre * 100:.2f}%\")"
   ]
  }
 ],
 "metadata": {
  "kernelspec": {
   "display_name": "venv",
   "language": "python",
   "name": "python3"
  },
  "language_info": {
   "codemirror_mode": {
    "name": "ipython",
    "version": 3
   },
   "file_extension": ".py",
   "mimetype": "text/x-python",
   "name": "python",
   "nbconvert_exporter": "python",
   "pygments_lexer": "ipython3",
   "version": "3.12.3"
  }
 },
 "nbformat": 4,
 "nbformat_minor": 5
}
